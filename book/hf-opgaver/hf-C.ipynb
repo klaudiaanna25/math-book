{
  "cells": [
    {
      "cell_type": "markdown",
      "metadata": {},
      "source": [
        "# Eksempelsamling for HF Mat C\n",
        "\n",
        "## Opgave 6\n",
        "Bestem hældningskoefficienten for den rette linje, der er gar for den lineære funktion $f$, og går igennem punkterne (3,7) og (12,10).\n",
        "\n",
        "::: {.callout-tip}\n",
        "### Hældningskoefficient\n",
        "\n",
        "Hældningskoefficienten for en lineær funktion der går igennem to punkter $(x_1, y_1)$ og $(x_2,y_2)$ er givet ved\n",
        "$$\n",
        "a=\\frac{y_2-y_1}{x_2-x_1}\n",
        "$$\n",
        ":::\n",
        "\n",
        "altså udfra koordinatsættet af de to givne punkter kan vi bestemme hældningskoefficientet således:\n",
        "$$\n",
        "a=\\frac{10-7}{12-3} = \\frac{3}{9} = \\frac{1}{3}\n",
        "$$\n",
        "\n",
        "Altså er hældningskoefficienten for den lineære funktion som går igennem de to punkter $a=\\frac{1}{3}$\n",
        "\n",
        "## Opgave 8\n",
        "I en model kan udviklingen i antallet af gymnasieelever i Danmark i perioden 2005-2012 beskrives ved:\n",
        "$$\n",
        "f(x) = 3679x+61112\n",
        "$$\n",
        "\n",
        "hvor $f(x)$ angiver antallet af gymnasieelever i Danmark til tiden $x$ år efter 2005.\n",
        "\n",
        "Det oplyses, at der var 89837 gymnasieelever i Danmark i år 2013.\n",
        "\n",
        "Bestem den relative afvigelse mellem det faktiske antal gymnasieelever og modellens bud på antal gymnasieelever.\n",
        "\n",
        "Ifølge modellen, det forventede antal gymnasieelever er \n",
        "$$\n",
        "f(2013-2005) = f(8) = 3679 \\cdot 8 + 61112 = 90544\n",
        "$$\n",
        "\n",
        "Det faktiske antal af gymnasieelever oplyses til at være 89837.\n",
        "\n",
        "::: {.callout-tip}\n",
        "### Den relative afvigelse\n",
        "Den relative afvigelse beregnes således\n",
        "$$\n",
        "100\\% \\cdot \\frac{(\\text{målt værdi - modelværdi})}{\\text{modelværdien}}\n",
        "$$\n",
        ":::\n",
        "\n",
        "hvor den målte værdi er så 89837 og modelværdien er 90544.\n",
        "\n",
        "$$\n",
        "100\\% \\cdot \\frac{(89837-90544)}{90544}\n",
        "$$\n"
      ],
      "id": "5c6e5dc3"
    },
    {
      "cell_type": "code",
      "metadata": {},
      "source": [
        "100*(89837-90544)/90544"
      ],
      "id": "10aa6c40",
      "execution_count": null,
      "outputs": []
    }
  ],
  "metadata": {
    "kernelspec": {
      "display_name": "Python 3",
      "language": "python",
      "name": "python3"
    }
  },
  "nbformat": 4,
  "nbformat_minor": 5
}